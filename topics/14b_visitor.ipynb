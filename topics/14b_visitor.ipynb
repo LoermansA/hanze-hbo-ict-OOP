{
 "cells": [
  {
   "cell_type": "markdown",
   "id": "c9c2aeb9-3568-49d3-831f-bf4d76d86a71",
   "metadata": {},
   "source": [
    "# Visitor Pattern"
   ]
  }
 ],
 "metadata": {
  "kernelspec": {
   "display_name": "Java",
   "language": "java",
   "name": "java"
  },
  "language_info": {
   "codemirror_mode": "java",
   "file_extension": ".jshell",
   "mimetype": "text/x-java-source",
   "name": "Java",
   "pygments_lexer": "java",
   "version": "11.0.13+8-Ubuntu-0ubuntu1.21.10"
  }
 },
 "nbformat": 4,
 "nbformat_minor": 5
}
