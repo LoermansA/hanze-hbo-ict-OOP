{
 "cells": [
  {
   "cell_type": "markdown",
   "id": "7207cd21-a058-4bda-9305-3d89eab43e2e",
   "metadata": {},
   "source": [
    "# Singleton pattern"
   ]
  },
  {
   "cell_type": "markdown",
   "id": "888b9881-061c-4684-83a4-ffd4ca1a9592",
   "metadata": {},
   "source": [
    "> zorgt dat nooit meer dan één instantie van de klasse bestaat en geeft globale toegang tot deze instantie"
   ]
  },
  {
   "cell_type": "markdown",
   "id": "5b415e17-9e63-48f3-9d02-f3eec1252ff7",
   "metadata": {},
   "source": [
    "### Globaal?\n",
    "\n",
    "Wat zijn globale variabelen in Java?"
   ]
  },
  {
   "cell_type": "code",
   "execution_count": 14,
   "id": "d4d813dc-894e-4533-8830-56a31e9682a5",
   "metadata": {},
   "outputs": [
    {
     "data": {
      "text/plain": [
       "3.141592653589793"
      ]
     },
     "execution_count": 14,
     "metadata": {},
     "output_type": "execute_result"
    }
   ],
   "source": [
    "Math.PI"
   ]
  },
  {
   "cell_type": "markdown",
   "id": "1e8a31d4-cafd-469c-ab07-6f67a8af87a4",
   "metadata": {},
   "source": [
    "## Mogelijkheden\n",
    "\n",
    "- controle op het creëren van instanties\n",
    "- *beperken* van het aantal instanties\n",
    "- kan uitgebreid worden naar een *factory* pattern\n",
    "- helpt afhankelijkeden te verbergen\n",
    "- centraal punt, gemakkelijk te onderhouden (vergelijk met *factory* pattern)"
   ]
  },
  {
   "cell_type": "markdown",
   "id": "f22513b1-a16c-425e-8788-179f58f7b192",
   "metadata": {},
   "source": [
    "## Voorbeelden\n",
    "\n",
    "- logging\n",
    "- driver objects\n",
    "- caching en thread pool\n",
    "- database connecties"
   ]
  },
  {
   "cell_type": "markdown",
   "id": "d7d6b45d-0f05-4827-91e8-a458fa5c38a4",
   "metadata": {},
   "source": [
    "## Implementatie"
   ]
  },
  {
   "cell_type": "markdown",
   "id": "90f4752a-ea36-4123-9298-33c9a8900b5d",
   "metadata": {},
   "source": [
    "![Singleton](images/11/singleton.png)"
   ]
  },
  {
   "cell_type": "code",
   "execution_count": 12,
   "id": "87a568c5-76a3-49bd-8999-c9f1b932b659",
   "metadata": {},
   "outputs": [],
   "source": [
    "public class Singleton {\n",
    "\n",
    "    private static Singleton instance;\n",
    "\n",
    "    private Singleton() {}\n",
    "\n",
    "    public static Singleton getInstance() {\n",
    "        if (instance == null) {\n",
    "            instance = new Singleton();\n",
    "        }\n",
    "        return instance;\n",
    "    }\n",
    "}"
   ]
  },
  {
   "cell_type": "markdown",
   "id": "5f846905-ee72-4aa9-a32a-fa279c2b252d",
   "metadata": {},
   "source": [
    "Let op het volgende\n",
    "\n",
    "- `instance` is door `static` een veld van de *klasse*, niet van een *instantie*\n",
    "- de constructor in `private`, alleen de klasse kan instantiëren\n",
    "- de methode `getInstance` controleert op de enkele instantie"
   ]
  },
  {
   "cell_type": "code",
   "execution_count": 6,
   "id": "bb4dd668-8663-49f6-aaf6-ec9023d9d5c8",
   "metadata": {},
   "outputs": [],
   "source": [
    "Singleton first = Singleton.getInstance()"
   ]
  },
  {
   "cell_type": "code",
   "execution_count": 7,
   "id": "8a35e9c3-900a-4027-b1d1-f4312073593d",
   "metadata": {},
   "outputs": [],
   "source": [
    "Singleton second = Singleton.getInstance()"
   ]
  },
  {
   "cell_type": "code",
   "execution_count": 8,
   "id": "18711a42-ade7-49aa-82a9-1e2b0fc758f2",
   "metadata": {},
   "outputs": [
    {
     "data": {
      "text/plain": [
       "true"
      ]
     },
     "execution_count": 8,
     "metadata": {},
     "output_type": "execute_result"
    }
   ],
   "source": [
    "first == second"
   ]
  },
  {
   "cell_type": "markdown",
   "id": "0f36ef4d-101f-4e1d-8193-776eb01db7cd",
   "metadata": {},
   "source": [
    "## Voorbeeld"
   ]
  },
  {
   "cell_type": "markdown",
   "id": "dee81486-9a03-4e82-977d-eefc1706161a",
   "metadata": {},
   "source": [
    "![Python None](images/11/python_none.png)"
   ]
  },
  {
   "cell_type": "markdown",
   "id": "cbedf67c-e9ee-41e3-9fce-8086b8f456d8",
   "metadata": {},
   "source": [
    "![Python None instance](images/11/python_none_instance.png)"
   ]
  },
  {
   "cell_type": "markdown",
   "id": "0c859fed-3f20-4ad7-b045-a93c4d024c96",
   "metadata": {},
   "source": [
    "In Python is álles een object, zo ook `None` (en `True` en `False` ...). Het object `None`wordt gebruikt om een lege waarde te representeren (vergelijk dit met `null` in Java). Let op, dit object heeft verder geen enkele verantwoordelijkheid."
   ]
  },
  {
   "cell_type": "markdown",
   "id": "6326b8a1-1f49-4fe4-9b33-dd9bdc0ebcf8",
   "metadata": {},
   "source": [
    "## Problemen\n",
    "\n",
    "Threading, een enkele instantie is niet gegarandeerd!"
   ]
  },
  {
   "cell_type": "code",
   "execution_count": null,
   "id": "120c4138-6c97-44cb-8650-03bb17533fa2",
   "metadata": {},
   "outputs": [],
   "source": [
    "public class Singleton {\n",
    "\n",
    "    private static Singleton instance new Singleton();\n",
    "\n",
    "    private Singleton() {}\n",
    "\n",
    "    public static Singleton getInstance() {\n",
    "        return instance;\n",
    "    }\n",
    "}"
   ]
  },
  {
   "cell_type": "markdown",
   "id": "f10f4f81-d56f-474f-be68-d392e4ecf3f1",
   "metadata": {},
   "source": [
    "Een optie om dit te voorkomen is door een instantie te creëren zonder dat dit op verzoek pas gebeurt (eagerly creation)."
   ]
  },
  {
   "cell_type": "code",
   "execution_count": 19,
   "id": "0ad4e882-0f5b-4989-b888-1571f2782343",
   "metadata": {},
   "outputs": [],
   "source": [
    "public class Singleton {\n",
    "\n",
    "    private volatile static Singleton instance;\n",
    "\n",
    "    private Singleton() {}\n",
    "\n",
    "    public static Singleton getInstance() {\n",
    "        \n",
    "        if (instance == null) {\n",
    "            synchronized (Singleton.class) {\n",
    "                if (instance == null) {\n",
    "                    instance = new Singleton();\n",
    "                }\n",
    "            }\n",
    "        }\n",
    "        return instance;\n",
    "    }\n",
    "}"
   ]
  },
  {
   "cell_type": "markdown",
   "id": "9a5a130c-134d-457b-8d82-c7261672054a",
   "metadata": {},
   "source": [
    "Een tweede optie om thread-safety te garanderen is *double-checked locking* toe te passen. Alleen bij een eerste check (`instance == null`) wordt gesyncroniseerd, in combinatie met het *keyword* `volatile` wordt gegarandeerd dat dat maar één instantie wordt aangemaakt. Synchroniseren van threads heeft een een impact op de efficiency, op deze wijze blijft dit beperkt."
   ]
  },
  {
   "cell_type": "markdown",
   "id": "3f40922c-7bcf-4f67-90a7-824c9aafa1b3",
   "metadata": {},
   "source": [
    "## Verantwoord gebruik\n",
    "\n",
    "Is singleton een *anti pattern*?"
   ]
  },
  {
   "cell_type": "markdown",
   "id": "e2cfc7dc-4c6f-4bad-b150-0360986fb02b",
   "metadata": {},
   "source": [
    "- overtreedt het principe van *single responsibility*\n",
    "- tight coupling\n",
    "- moeilijk te testen"
   ]
  },
  {
   "cell_type": "markdown",
   "id": "1c6dd092-a1f2-4f18-a734-584780920782",
   "metadata": {},
   "source": [
    "Een singleton heeft twee verantwoordelijkheden, ten eerste het bijhouden van een enkele instantie en ten tweede de functionaliteit van de klasse zelf, dit overtreedt het principe dat een klasse een enkele verantwoordelijkheid zou moeten hebben.\n",
    "\n",
    "Verder heeft een singleton de karakteristieken van een globale variabele, waarmee client klassen \"intieme\" kennis nodig hebben van deze singleton en waarmee ze *tightly coupled* zijn.\n",
    "\n",
    "Deze tight coupling heeft ook als gevolg dat het moeilijk is om methoden afzonderlijk te testen, omdat altijd de singleton als constante in de weg zit (je moet altijd in combinatie testen)."
   ]
  },
  {
   "cell_type": "markdown",
   "id": "052ea047-931b-465a-9bf2-9c8f92f82221",
   "metadata": {},
   "source": [
    "![Log4j vulnerability](images/11/log4j_vulnerability.png)"
   ]
  },
  {
   "cell_type": "markdown",
   "id": "ecc26f52-c5fe-474b-b5c6-7ad879a6e694",
   "metadata": {},
   "source": [
    "![XKCD dependency](images/11/xkcd_dependency.png)"
   ]
  },
  {
   "cell_type": "markdown",
   "id": "a8f25d89-f186-4beb-a776-8d811e2e9718",
   "metadata": {},
   "source": [
    "> Someday ~~ImageMagick~~ log4j will finally break for good and we'll have a long period of scrambling as we try to reassemble civilization from the rubble.\n",
    "\n",
    "(vrij naar [Randall Munroe / XKCD](https://xkcd.com/2347/)) "
   ]
  }
 ],
 "metadata": {
  "kernelspec": {
   "display_name": "Java",
   "language": "java",
   "name": "java"
  },
  "language_info": {
   "codemirror_mode": "java",
   "file_extension": ".jshell",
   "mimetype": "text/x-java-source",
   "name": "Java",
   "pygments_lexer": "java",
   "version": "11.0.12+7-Ubuntu-0ubuntu3"
  }
 },
 "nbformat": 4,
 "nbformat_minor": 5
}
